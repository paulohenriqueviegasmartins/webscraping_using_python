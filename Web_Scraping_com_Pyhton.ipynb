{
  "nbformat": 4,
  "nbformat_minor": 0,
  "metadata": {
    "colab": {
      "name": "Web Scraping com Pyhton.ipynb",
      "provenance": [],
      "mount_file_id": "1f1dcZfoEz1yrQsSfRw0mnp5Pabc9lvbJ",
      "authorship_tag": "ABX9TyOLOiafCXNWTzgUWZAp+kZT",
      "include_colab_link": true
    },
    "kernelspec": {
      "name": "python3",
      "display_name": "Python 3"
    }
  },
  "cells": [
    {
      "cell_type": "markdown",
      "metadata": {
        "id": "view-in-github",
        "colab_type": "text"
      },
      "source": [
        "<a href=\"https://colab.research.google.com/github/paulohenriqueviegasmartins/webscraping_using_python/blob/main/Web_Scraping_com_Pyhton.ipynb\" target=\"_parent\"><img src=\"https://colab.research.google.com/assets/colab-badge.svg\" alt=\"Open In Colab\"/></a>"
      ]
    },
    {
      "cell_type": "markdown",
      "metadata": {
        "id": "0P6lJ1EofJe1"
      },
      "source": [
        "**Web Scraping**\n",
        "\n",
        "Web Scraping é um processo utilizado amplamente nas área de ciência e engenharia de dados para \"raspar\" ou “garimpar” websites da internet. O principal objetivo é extrair informações importantes de alguns site que posteriormente serão analisadas. Na grande maioria das vezes, esses são dados utilizados para planejamento e tomada de decisões em muitas empresas.\n",
        "\n",
        "\n",
        "Esse processo pode ser manual ou automatizado utilizando orquestradores de pipelines de dados. O Airflow pode ser utilizado para essa automatização.\n",
        "\n",
        "Neste repositório, apresentamos uma forma simples de web scraping para buscar informações do site do Tesouro Direto. Ressaltamos que essas informações financeiras são muito importantes para tomada de decisões sobre diversos investimentos em Renda Fixa.\n",
        "\n",
        "Tesouro Direto: https://www.tesourodireto.com.br/titulos/precos-e-taxas.htm#0"
      ]
    },
    {
      "cell_type": "markdown",
      "metadata": {
        "id": "Ca3szi9maded"
      },
      "source": [
        "### Instalar bibliotecas"
      ]
    },
    {
      "cell_type": "markdown",
      "metadata": {
        "id": "pGQoHludjpGs"
      },
      "source": [
        "Vamos instalar todos as bibliotecas que utilizaremos"
      ]
    },
    {
      "cell_type": "code",
      "metadata": {
        "id": "wxIOwuBqvToB"
      },
      "source": [
        "import pandas as pd\n",
        "import numpy as np\n",
        "# Configuração da exibição do Dataframe\n",
        "pd.set_option(\"display.max_colwidth\", 140) # Configura as colunas\n",
        "pd.set_option(\"display.min_rows\", 20) # Configura as linhas do meu dataframe."
      ],
      "execution_count": 2,
      "outputs": []
    },
    {
      "cell_type": "markdown",
      "metadata": {
        "id": "jIg7SbeSZ51j"
      },
      "source": [
        "### Outras bibliotecas"
      ]
    },
    {
      "cell_type": "markdown",
      "metadata": {
        "id": "c2vr-D93kBbu"
      },
      "source": [
        "Vamos instalar a biblioteca Matplotlib, responsável pela visualização dos dados."
      ]
    },
    {
      "cell_type": "code",
      "metadata": {
        "id": "tkq0Dq5Ej_4D"
      },
      "source": [
        "import matplotlib # Importar o Matplotlib para visualização dos dados\n",
        "matplotlib.style.use('seaborn-darkgrid') # Vamos usar um estilo predefinido (https://matplotlib.org/tutorials/introductory/customizing.html).\n",
        "matplotlib.rcParams['figure.figsize'] = (20,10) # configurar o tamnho das figuras.\n",
        "\n",
        "# Importar o plotly para criar os nossos gráficos (https://matplotlib.org/tutorials/introductory/pyplot.html)\n",
        "import matplotlib.pyplot as plt # Boa prática é a usar a sigla \"plt\"\n",
        "import plotly.graph_objects as go # importar a biblioteca para criar os objetos gráficos.\n",
        "import plotly.express as px # O plotly.express contém funções para criar figuras inteiras de uma vez.\n",
        "# Sugerimos a padronização de cada uma das siglas utilizadas para as bibliotecas e seus módulos."
      ],
      "execution_count": 3,
      "outputs": []
    },
    {
      "cell_type": "markdown",
      "metadata": {
        "id": "SMTUFxUXaMG8"
      },
      "source": [
        "### Web Scraping - Coletando dados"
      ]
    },
    {
      "cell_type": "markdown",
      "metadata": {
        "id": "kHzaHwuBJijX"
      },
      "source": [
        "Vamos instalar o yfinance: https://pypi.org/project/yfinance/"
      ]
    },
    {
      "cell_type": "code",
      "metadata": {
        "id": "BZ7qYEvevZsX"
      },
      "source": [
        "# Instalar o Yahoo Finance\n",
        "# yfinance busca fazer o download dos dados do Yahoo! finance (https://pypi.org/project/yfinance/).\n",
        "!pip install yfinance\n",
        "import yfinance as yf # Sempre usar yf para esta biblioteca."
      ],
      "execution_count": null,
      "outputs": []
    },
    {
      "cell_type": "code",
      "metadata": {
        "id": "vBooCO7Evg3S"
      },
      "source": [
        "# Programação específica apenas para o Google Colaboratory\n",
        "import ssl\n",
        "ssl._create_default_https_context = ssl._create_unverified_context"
      ],
      "execution_count": 5,
      "outputs": []
    },
    {
      "cell_type": "code",
      "metadata": {
        "id": "8xdLcnwOvpch"
      },
      "source": [
        "# Função para buscar dados do Tesouro Direto.\n",
        "def busca_titulos_tesouro_direto():\n",
        "  url = 'https://www.tesourotransparente.gov.br/ckan/dataset/df56aa42-484a-4a59-8184-7676580c81e3/resource/796d2059-14e9-44e3-80c9-2d9e30b405c1/download/PrecoTaxaTesouroDireto.csv'\n",
        "  df  = pd.read_csv(url, sep=';', decimal=',')\n",
        "  df['Data Vencimento'] = pd.to_datetime(df['Data Vencimento'], dayfirst=True)\n",
        "  df['Data Base']       = pd.to_datetime(df['Data Base'], dayfirst=True)\n",
        "  multi_indice = pd.MultiIndex.from_frame(df.iloc[:, :3])\n",
        "  df = df.set_index(multi_indice).iloc[: , 3:]  \n",
        "  return df"
      ],
      "execution_count": 6,
      "outputs": []
    },
    {
      "cell_type": "code",
      "metadata": {
        "id": "REB4BZQ6vu1I"
      },
      "source": [
        "titulos = busca_titulos_tesouro_direto() # Criamos os títulos e adicionamos \"busca_titulos_tesouro_direto()\" a este."
      ],
      "execution_count": 7,
      "outputs": []
    },
    {
      "cell_type": "markdown",
      "metadata": {
        "id": "FX7sSbSOhrD3"
      },
      "source": [
        "**Pronto!** O web scraping já foi finalizado e todas as informaçẽs do Tesouro Direto importadas.\n",
        "\n",
        "Vamos explorar as informações e verificar se estão corretas\n",
        "\n",
        " \n",
        "  \n",
        "  "
      ]
    },
    {
      "cell_type": "markdown",
      "metadata": {
        "id": "jr73ZDeZikWC"
      },
      "source": [
        "## Análise dos Dados"
      ]
    },
    {
      "cell_type": "code",
      "metadata": {
        "id": "TLct9hZVvwng",
        "colab": {
          "base_uri": "https://localhost:8080/",
          "height": 603
        },
        "outputId": "df1b5486-a022-4ccd-ec77-6c3c9fbb634a"
      },
      "source": [
        "# Ver os dados das 5 primeiras colunas e 5 primeiras linhas\n",
        "titulos.head(10)"
      ],
      "execution_count": 8,
      "outputs": [
        {
          "output_type": "execute_result",
          "data": {
            "text/html": [
              "<div>\n",
              "<style scoped>\n",
              "    .dataframe tbody tr th:only-of-type {\n",
              "        vertical-align: middle;\n",
              "    }\n",
              "\n",
              "    .dataframe tbody tr th {\n",
              "        vertical-align: top;\n",
              "    }\n",
              "\n",
              "    .dataframe thead th {\n",
              "        text-align: right;\n",
              "    }\n",
              "</style>\n",
              "<table border=\"1\" class=\"dataframe\">\n",
              "  <thead>\n",
              "    <tr style=\"text-align: right;\">\n",
              "      <th></th>\n",
              "      <th></th>\n",
              "      <th></th>\n",
              "      <th>Taxa Compra Manha</th>\n",
              "      <th>Taxa Venda Manha</th>\n",
              "      <th>PU Compra Manha</th>\n",
              "      <th>PU Venda Manha</th>\n",
              "      <th>PU Base Manha</th>\n",
              "    </tr>\n",
              "    <tr>\n",
              "      <th>Tipo Titulo</th>\n",
              "      <th>Data Vencimento</th>\n",
              "      <th>Data Base</th>\n",
              "      <th></th>\n",
              "      <th></th>\n",
              "      <th></th>\n",
              "      <th></th>\n",
              "      <th></th>\n",
              "    </tr>\n",
              "  </thead>\n",
              "  <tbody>\n",
              "    <tr>\n",
              "      <th>Tesouro Prefixado com Juros Semestrais</th>\n",
              "      <th>2021-01-01</th>\n",
              "      <th>2010-06-07</th>\n",
              "      <td>12.46</td>\n",
              "      <td>12.52</td>\n",
              "      <td>906.18</td>\n",
              "      <td>903.18</td>\n",
              "      <td>902.76</td>\n",
              "    </tr>\n",
              "    <tr>\n",
              "      <th rowspan=\"5\" valign=\"top\">Tesouro Selic</th>\n",
              "      <th>2011-03-16</th>\n",
              "      <th>2010-06-08</th>\n",
              "      <td>0.00</td>\n",
              "      <td>0.01</td>\n",
              "      <td>4249.09</td>\n",
              "      <td>4248.76</td>\n",
              "      <td>4247.22</td>\n",
              "    </tr>\n",
              "    <tr>\n",
              "      <th>2012-03-07</th>\n",
              "      <th>2010-06-08</th>\n",
              "      <td>0.00</td>\n",
              "      <td>0.02</td>\n",
              "      <td>4249.09</td>\n",
              "      <td>4247.60</td>\n",
              "      <td>4246.07</td>\n",
              "    </tr>\n",
              "    <tr>\n",
              "      <th>2013-03-07</th>\n",
              "      <th>2010-06-08</th>\n",
              "      <td>0.00</td>\n",
              "      <td>0.03</td>\n",
              "      <td>4249.09</td>\n",
              "      <td>4245.60</td>\n",
              "      <td>4244.06</td>\n",
              "    </tr>\n",
              "    <tr>\n",
              "      <th>2014-03-07</th>\n",
              "      <th>2010-06-08</th>\n",
              "      <td>0.00</td>\n",
              "      <td>0.04</td>\n",
              "      <td>4249.09</td>\n",
              "      <td>4242.73</td>\n",
              "      <td>4241.20</td>\n",
              "    </tr>\n",
              "    <tr>\n",
              "      <th>2015-03-07</th>\n",
              "      <th>2010-06-08</th>\n",
              "      <td>0.00</td>\n",
              "      <td>0.04</td>\n",
              "      <td>4249.09</td>\n",
              "      <td>4241.02</td>\n",
              "      <td>4239.49</td>\n",
              "    </tr>\n",
              "    <tr>\n",
              "      <th rowspan=\"4\" valign=\"top\">Tesouro Prefixado</th>\n",
              "      <th>2010-07-01</th>\n",
              "      <th>2010-06-08</th>\n",
              "      <td>10.02</td>\n",
              "      <td>10.05</td>\n",
              "      <td>993.95</td>\n",
              "      <td>993.93</td>\n",
              "      <td>993.56</td>\n",
              "    </tr>\n",
              "    <tr>\n",
              "      <th>2011-01-01</th>\n",
              "      <th>2010-06-08</th>\n",
              "      <td>10.98</td>\n",
              "      <td>11.02</td>\n",
              "      <td>942.20</td>\n",
              "      <td>942.01</td>\n",
              "      <td>941.62</td>\n",
              "    </tr>\n",
              "    <tr>\n",
              "      <th>2012-01-01</th>\n",
              "      <th>2010-06-08</th>\n",
              "      <td>11.91</td>\n",
              "      <td>11.96</td>\n",
              "      <td>838.30</td>\n",
              "      <td>837.71</td>\n",
              "      <td>837.33</td>\n",
              "    </tr>\n",
              "    <tr>\n",
              "      <th>2013-01-01</th>\n",
              "      <th>2010-06-08</th>\n",
              "      <td>12.09</td>\n",
              "      <td>12.15</td>\n",
              "      <td>746.33</td>\n",
              "      <td>745.31</td>\n",
              "      <td>744.97</td>\n",
              "    </tr>\n",
              "  </tbody>\n",
              "</table>\n",
              "</div>"
            ],
            "text/plain": [
              "                                                                   Taxa Compra Manha  ...  PU Base Manha\n",
              "Tipo Titulo                            Data Vencimento Data Base                      ...               \n",
              "Tesouro Prefixado com Juros Semestrais 2021-01-01      2010-06-07              12.46  ...         902.76\n",
              "Tesouro Selic                          2011-03-16      2010-06-08               0.00  ...        4247.22\n",
              "                                       2012-03-07      2010-06-08               0.00  ...        4246.07\n",
              "                                       2013-03-07      2010-06-08               0.00  ...        4244.06\n",
              "                                       2014-03-07      2010-06-08               0.00  ...        4241.20\n",
              "                                       2015-03-07      2010-06-08               0.00  ...        4239.49\n",
              "Tesouro Prefixado                      2010-07-01      2010-06-08              10.02  ...         993.56\n",
              "                                       2011-01-01      2010-06-08              10.98  ...         941.62\n",
              "                                       2012-01-01      2010-06-08              11.91  ...         837.33\n",
              "                                       2013-01-01      2010-06-08              12.09  ...         744.97\n",
              "\n",
              "[10 rows x 5 columns]"
            ]
          },
          "metadata": {},
          "execution_count": 8
        }
      ]
    },
    {
      "cell_type": "code",
      "metadata": {
        "id": "avuT8I1AMSxq",
        "colab": {
          "base_uri": "https://localhost:8080/",
          "height": 603
        },
        "outputId": "0cb6296c-7de3-4199-bde5-79d3f134cf77"
      },
      "source": [
        "# Ver os dados das últimas 5 linhas\n",
        "titulos.tail(10)"
      ],
      "execution_count": 9,
      "outputs": [
        {
          "output_type": "execute_result",
          "data": {
            "text/html": [
              "<div>\n",
              "<style scoped>\n",
              "    .dataframe tbody tr th:only-of-type {\n",
              "        vertical-align: middle;\n",
              "    }\n",
              "\n",
              "    .dataframe tbody tr th {\n",
              "        vertical-align: top;\n",
              "    }\n",
              "\n",
              "    .dataframe thead th {\n",
              "        text-align: right;\n",
              "    }\n",
              "</style>\n",
              "<table border=\"1\" class=\"dataframe\">\n",
              "  <thead>\n",
              "    <tr style=\"text-align: right;\">\n",
              "      <th></th>\n",
              "      <th></th>\n",
              "      <th></th>\n",
              "      <th>Taxa Compra Manha</th>\n",
              "      <th>Taxa Venda Manha</th>\n",
              "      <th>PU Compra Manha</th>\n",
              "      <th>PU Venda Manha</th>\n",
              "      <th>PU Base Manha</th>\n",
              "    </tr>\n",
              "    <tr>\n",
              "      <th>Tipo Titulo</th>\n",
              "      <th>Data Vencimento</th>\n",
              "      <th>Data Base</th>\n",
              "      <th></th>\n",
              "      <th></th>\n",
              "      <th></th>\n",
              "      <th></th>\n",
              "      <th></th>\n",
              "    </tr>\n",
              "  </thead>\n",
              "  <tbody>\n",
              "    <tr>\n",
              "      <th>Tesouro IPCA+ com Juros Semestrais</th>\n",
              "      <th>2035-05-15</th>\n",
              "      <th>2012-06-29</th>\n",
              "      <td>4.70</td>\n",
              "      <td>4.80</td>\n",
              "      <td>2560.67</td>\n",
              "      <td>2527.94</td>\n",
              "      <td>2527.16</td>\n",
              "    </tr>\n",
              "    <tr>\n",
              "      <th>Tesouro Prefixado com Juros Semestrais</th>\n",
              "      <th>2014-01-01</th>\n",
              "      <th>2012-06-29</th>\n",
              "      <td>7.95</td>\n",
              "      <td>8.00</td>\n",
              "      <td>1027.05</td>\n",
              "      <td>1026.37</td>\n",
              "      <td>1074.85</td>\n",
              "    </tr>\n",
              "    <tr>\n",
              "      <th>Tesouro IPCA+</th>\n",
              "      <th>2024-08-15</th>\n",
              "      <th>2012-06-29</th>\n",
              "      <td>4.67</td>\n",
              "      <td>4.75</td>\n",
              "      <td>1242.67</td>\n",
              "      <td>1231.25</td>\n",
              "      <td>1230.88</td>\n",
              "    </tr>\n",
              "    <tr>\n",
              "      <th>Tesouro Selic</th>\n",
              "      <th>2015-03-07</th>\n",
              "      <th>2012-06-29</th>\n",
              "      <td>-0.08</td>\n",
              "      <td>-0.05</td>\n",
              "      <td>5267.19</td>\n",
              "      <td>5262.95</td>\n",
              "      <td>5261.26</td>\n",
              "    </tr>\n",
              "    <tr>\n",
              "      <th rowspan=\"2\" valign=\"top\">Tesouro IPCA+ com Juros Semestrais</th>\n",
              "      <th>2013-05-15</th>\n",
              "      <th>2012-06-29</th>\n",
              "      <td>2.95</td>\n",
              "      <td>2.97</td>\n",
              "      <td>2228.65</td>\n",
              "      <td>2228.29</td>\n",
              "      <td>2227.76</td>\n",
              "    </tr>\n",
              "    <tr>\n",
              "      <th>2012-08-15</th>\n",
              "      <th>2012-06-29</th>\n",
              "      <td>6.32</td>\n",
              "      <td>6.34</td>\n",
              "      <td>2203.28</td>\n",
              "      <td>2203.22</td>\n",
              "      <td>2202.42</td>\n",
              "    </tr>\n",
              "    <tr>\n",
              "      <th rowspan=\"3\" valign=\"top\">Tesouro Prefixado</th>\n",
              "      <th>2014-01-01</th>\n",
              "      <th>2012-06-29</th>\n",
              "      <td>7.95</td>\n",
              "      <td>8.00</td>\n",
              "      <td>891.32</td>\n",
              "      <td>890.70</td>\n",
              "      <td>890.42</td>\n",
              "    </tr>\n",
              "    <tr>\n",
              "      <th>2016-01-01</th>\n",
              "      <th>2012-06-29</th>\n",
              "      <td>9.17</td>\n",
              "      <td>9.23</td>\n",
              "      <td>735.59</td>\n",
              "      <td>734.18</td>\n",
              "      <td>733.92</td>\n",
              "    </tr>\n",
              "    <tr>\n",
              "      <th>2015-01-01</th>\n",
              "      <th>2012-06-29</th>\n",
              "      <td>8.60</td>\n",
              "      <td>8.66</td>\n",
              "      <td>813.09</td>\n",
              "      <td>811.96</td>\n",
              "      <td>811.70</td>\n",
              "    </tr>\n",
              "    <tr>\n",
              "      <th>Tesouro IPCA+</th>\n",
              "      <th>2035-05-15</th>\n",
              "      <th>2012-07-31</th>\n",
              "      <td>4.54</td>\n",
              "      <td>4.64</td>\n",
              "      <td>788.84</td>\n",
              "      <td>771.90</td>\n",
              "      <td>771.67</td>\n",
              "    </tr>\n",
              "  </tbody>\n",
              "</table>\n",
              "</div>"
            ],
            "text/plain": [
              "                                                                   Taxa Compra Manha  ...  PU Base Manha\n",
              "Tipo Titulo                            Data Vencimento Data Base                      ...               \n",
              "Tesouro IPCA+ com Juros Semestrais     2035-05-15      2012-06-29               4.70  ...        2527.16\n",
              "Tesouro Prefixado com Juros Semestrais 2014-01-01      2012-06-29               7.95  ...        1074.85\n",
              "Tesouro IPCA+                          2024-08-15      2012-06-29               4.67  ...        1230.88\n",
              "Tesouro Selic                          2015-03-07      2012-06-29              -0.08  ...        5261.26\n",
              "Tesouro IPCA+ com Juros Semestrais     2013-05-15      2012-06-29               2.95  ...        2227.76\n",
              "                                       2012-08-15      2012-06-29               6.32  ...        2202.42\n",
              "Tesouro Prefixado                      2014-01-01      2012-06-29               7.95  ...         890.42\n",
              "                                       2016-01-01      2012-06-29               9.17  ...         733.92\n",
              "                                       2015-01-01      2012-06-29               8.60  ...         811.70\n",
              "Tesouro IPCA+                          2035-05-15      2012-07-31               4.54  ...         771.67\n",
              "\n",
              "[10 rows x 5 columns]"
            ]
          },
          "metadata": {},
          "execution_count": 9
        }
      ]
    },
    {
      "cell_type": "code",
      "metadata": {
        "id": "yqgXPe0bv2dT",
        "colab": {
          "base_uri": "https://localhost:8080/",
          "height": 164
        },
        "outputId": "d8727306-58b2-42b2-8dfc-34ebd2978129"
      },
      "source": [
        "titulos.sort_index(inplace=True)\n",
        "titulos.head(1)"
      ],
      "execution_count": 10,
      "outputs": [
        {
          "output_type": "execute_result",
          "data": {
            "text/html": [
              "<div>\n",
              "<style scoped>\n",
              "    .dataframe tbody tr th:only-of-type {\n",
              "        vertical-align: middle;\n",
              "    }\n",
              "\n",
              "    .dataframe tbody tr th {\n",
              "        vertical-align: top;\n",
              "    }\n",
              "\n",
              "    .dataframe thead th {\n",
              "        text-align: right;\n",
              "    }\n",
              "</style>\n",
              "<table border=\"1\" class=\"dataframe\">\n",
              "  <thead>\n",
              "    <tr style=\"text-align: right;\">\n",
              "      <th></th>\n",
              "      <th></th>\n",
              "      <th></th>\n",
              "      <th>Taxa Compra Manha</th>\n",
              "      <th>Taxa Venda Manha</th>\n",
              "      <th>PU Compra Manha</th>\n",
              "      <th>PU Venda Manha</th>\n",
              "      <th>PU Base Manha</th>\n",
              "    </tr>\n",
              "    <tr>\n",
              "      <th>Tipo Titulo</th>\n",
              "      <th>Data Vencimento</th>\n",
              "      <th>Data Base</th>\n",
              "      <th></th>\n",
              "      <th></th>\n",
              "      <th></th>\n",
              "      <th></th>\n",
              "      <th></th>\n",
              "    </tr>\n",
              "  </thead>\n",
              "  <tbody>\n",
              "    <tr>\n",
              "      <th>Tesouro IGPM+ com Juros Semestrais</th>\n",
              "      <th>2005-07-01</th>\n",
              "      <th>2004-12-31</th>\n",
              "      <td>9.23</td>\n",
              "      <td>9.25</td>\n",
              "      <td>1776.67</td>\n",
              "      <td>1776.51</td>\n",
              "      <td>1827.87</td>\n",
              "    </tr>\n",
              "  </tbody>\n",
              "</table>\n",
              "</div>"
            ],
            "text/plain": [
              "                                                               Taxa Compra Manha  ...  PU Base Manha\n",
              "Tipo Titulo                        Data Vencimento Data Base                      ...               \n",
              "Tesouro IGPM+ com Juros Semestrais 2005-07-01      2004-12-31               9.23  ...        1827.87\n",
              "\n",
              "[1 rows x 5 columns]"
            ]
          },
          "metadata": {},
          "execution_count": 10
        }
      ]
    },
    {
      "cell_type": "code",
      "metadata": {
        "id": "IIWx2hxcv8QJ",
        "colab": {
          "base_uri": "https://localhost:8080/",
          "height": 359
        },
        "outputId": "e9612f86-89e3-45f4-e053-7b6f154b18b6"
      },
      "source": [
        "titulos.head()"
      ],
      "execution_count": 11,
      "outputs": [
        {
          "output_type": "execute_result",
          "data": {
            "text/html": [
              "<div>\n",
              "<style scoped>\n",
              "    .dataframe tbody tr th:only-of-type {\n",
              "        vertical-align: middle;\n",
              "    }\n",
              "\n",
              "    .dataframe tbody tr th {\n",
              "        vertical-align: top;\n",
              "    }\n",
              "\n",
              "    .dataframe thead th {\n",
              "        text-align: right;\n",
              "    }\n",
              "</style>\n",
              "<table border=\"1\" class=\"dataframe\">\n",
              "  <thead>\n",
              "    <tr style=\"text-align: right;\">\n",
              "      <th></th>\n",
              "      <th></th>\n",
              "      <th></th>\n",
              "      <th>Taxa Compra Manha</th>\n",
              "      <th>Taxa Venda Manha</th>\n",
              "      <th>PU Compra Manha</th>\n",
              "      <th>PU Venda Manha</th>\n",
              "      <th>PU Base Manha</th>\n",
              "    </tr>\n",
              "    <tr>\n",
              "      <th>Tipo Titulo</th>\n",
              "      <th>Data Vencimento</th>\n",
              "      <th>Data Base</th>\n",
              "      <th></th>\n",
              "      <th></th>\n",
              "      <th></th>\n",
              "      <th></th>\n",
              "      <th></th>\n",
              "    </tr>\n",
              "  </thead>\n",
              "  <tbody>\n",
              "    <tr>\n",
              "      <th rowspan=\"5\" valign=\"top\">Tesouro IGPM+ com Juros Semestrais</th>\n",
              "      <th rowspan=\"5\" valign=\"top\">2005-07-01</th>\n",
              "      <th>2004-12-31</th>\n",
              "      <td>9.23</td>\n",
              "      <td>9.25</td>\n",
              "      <td>1776.67</td>\n",
              "      <td>1776.51</td>\n",
              "      <td>1827.87</td>\n",
              "    </tr>\n",
              "    <tr>\n",
              "      <th>2005-01-03</th>\n",
              "      <td>9.23</td>\n",
              "      <td>9.25</td>\n",
              "      <td>1777.71</td>\n",
              "      <td>1777.55</td>\n",
              "      <td>1776.51</td>\n",
              "    </tr>\n",
              "    <tr>\n",
              "      <th>2005-01-04</th>\n",
              "      <td>9.26</td>\n",
              "      <td>9.28</td>\n",
              "      <td>1778.52</td>\n",
              "      <td>1778.36</td>\n",
              "      <td>1777.32</td>\n",
              "    </tr>\n",
              "    <tr>\n",
              "      <th>2005-01-05</th>\n",
              "      <td>9.28</td>\n",
              "      <td>9.30</td>\n",
              "      <td>1779.40</td>\n",
              "      <td>1779.25</td>\n",
              "      <td>1778.20</td>\n",
              "    </tr>\n",
              "    <tr>\n",
              "      <th>2005-01-06</th>\n",
              "      <td>9.31</td>\n",
              "      <td>9.33</td>\n",
              "      <td>1780.21</td>\n",
              "      <td>1780.06</td>\n",
              "      <td>1779.01</td>\n",
              "    </tr>\n",
              "  </tbody>\n",
              "</table>\n",
              "</div>"
            ],
            "text/plain": [
              "                                                               Taxa Compra Manha  ...  PU Base Manha\n",
              "Tipo Titulo                        Data Vencimento Data Base                      ...               \n",
              "Tesouro IGPM+ com Juros Semestrais 2005-07-01      2004-12-31               9.23  ...        1827.87\n",
              "                                                   2005-01-03               9.23  ...        1776.51\n",
              "                                                   2005-01-04               9.26  ...        1777.32\n",
              "                                                   2005-01-05               9.28  ...        1778.20\n",
              "                                                   2005-01-06               9.31  ...        1779.01\n",
              "\n",
              "[5 rows x 5 columns]"
            ]
          },
          "metadata": {},
          "execution_count": 11
        }
      ]
    },
    {
      "cell_type": "code",
      "metadata": {
        "id": "i6dtJ7SpwDlR",
        "colab": {
          "base_uri": "https://localhost:8080/"
        },
        "outputId": "174ee057-f57a-4e27-a79b-f8c42b0f66d0"
      },
      "source": [
        "tipos_titulos = titulos.index.droplevel(level=1).droplevel(level=1).drop_duplicates().to_list()\n",
        "tipos_titulos"
      ],
      "execution_count": 12,
      "outputs": [
        {
          "output_type": "execute_result",
          "data": {
            "text/plain": [
              "['Tesouro IGPM+ com Juros Semestrais',\n",
              " 'Tesouro IPCA+',\n",
              " 'Tesouro IPCA+ com Juros Semestrais',\n",
              " 'Tesouro Prefixado',\n",
              " 'Tesouro Prefixado com Juros Semestrais',\n",
              " 'Tesouro Selic']"
            ]
          },
          "metadata": {},
          "execution_count": 12
        }
      ]
    },
    {
      "cell_type": "code",
      "metadata": {
        "id": "aocspQpswJYD",
        "colab": {
          "base_uri": "https://localhost:8080/",
          "height": 143
        },
        "outputId": "fd646482-145a-4397-ccc1-70776110afcf"
      },
      "source": [
        "pre2023 = titulos.loc[('Tesouro Prefixado', '2023-01-01')]\n",
        "pre2023.head(2)"
      ],
      "execution_count": 13,
      "outputs": [
        {
          "output_type": "execute_result",
          "data": {
            "text/html": [
              "<div>\n",
              "<style scoped>\n",
              "    .dataframe tbody tr th:only-of-type {\n",
              "        vertical-align: middle;\n",
              "    }\n",
              "\n",
              "    .dataframe tbody tr th {\n",
              "        vertical-align: top;\n",
              "    }\n",
              "\n",
              "    .dataframe thead th {\n",
              "        text-align: right;\n",
              "    }\n",
              "</style>\n",
              "<table border=\"1\" class=\"dataframe\">\n",
              "  <thead>\n",
              "    <tr style=\"text-align: right;\">\n",
              "      <th></th>\n",
              "      <th>Taxa Compra Manha</th>\n",
              "      <th>Taxa Venda Manha</th>\n",
              "      <th>PU Compra Manha</th>\n",
              "      <th>PU Venda Manha</th>\n",
              "      <th>PU Base Manha</th>\n",
              "    </tr>\n",
              "    <tr>\n",
              "      <th>Data Base</th>\n",
              "      <th></th>\n",
              "      <th></th>\n",
              "      <th></th>\n",
              "      <th></th>\n",
              "      <th></th>\n",
              "    </tr>\n",
              "  </thead>\n",
              "  <tbody>\n",
              "    <tr>\n",
              "      <th>2016-01-26</th>\n",
              "      <td>16.59</td>\n",
              "      <td>16.65</td>\n",
              "      <td>346.72</td>\n",
              "      <td>345.49</td>\n",
              "      <td>345.28</td>\n",
              "    </tr>\n",
              "    <tr>\n",
              "      <th>2016-01-27</th>\n",
              "      <td>16.32</td>\n",
              "      <td>16.38</td>\n",
              "      <td>352.52</td>\n",
              "      <td>351.27</td>\n",
              "      <td>351.06</td>\n",
              "    </tr>\n",
              "  </tbody>\n",
              "</table>\n",
              "</div>"
            ],
            "text/plain": [
              "            Taxa Compra Manha  Taxa Venda Manha  ...  PU Venda Manha  PU Base Manha\n",
              "Data Base                                        ...                               \n",
              "2016-01-26              16.59             16.65  ...          345.49         345.28\n",
              "2016-01-27              16.32             16.38  ...          351.27         351.06\n",
              "\n",
              "[2 rows x 5 columns]"
            ]
          },
          "metadata": {},
          "execution_count": 13
        }
      ]
    },
    {
      "cell_type": "code",
      "metadata": {
        "id": "NI_6rfjI6GTX",
        "colab": {
          "base_uri": "https://localhost:8080/",
          "height": 143
        },
        "outputId": "c669dba1-de30-43cf-8fd2-03da20a4f2aa"
      },
      "source": [
        "pre2023.head(2)"
      ],
      "execution_count": 14,
      "outputs": [
        {
          "output_type": "execute_result",
          "data": {
            "text/html": [
              "<div>\n",
              "<style scoped>\n",
              "    .dataframe tbody tr th:only-of-type {\n",
              "        vertical-align: middle;\n",
              "    }\n",
              "\n",
              "    .dataframe tbody tr th {\n",
              "        vertical-align: top;\n",
              "    }\n",
              "\n",
              "    .dataframe thead th {\n",
              "        text-align: right;\n",
              "    }\n",
              "</style>\n",
              "<table border=\"1\" class=\"dataframe\">\n",
              "  <thead>\n",
              "    <tr style=\"text-align: right;\">\n",
              "      <th></th>\n",
              "      <th>Taxa Compra Manha</th>\n",
              "      <th>Taxa Venda Manha</th>\n",
              "      <th>PU Compra Manha</th>\n",
              "      <th>PU Venda Manha</th>\n",
              "      <th>PU Base Manha</th>\n",
              "    </tr>\n",
              "    <tr>\n",
              "      <th>Data Base</th>\n",
              "      <th></th>\n",
              "      <th></th>\n",
              "      <th></th>\n",
              "      <th></th>\n",
              "      <th></th>\n",
              "    </tr>\n",
              "  </thead>\n",
              "  <tbody>\n",
              "    <tr>\n",
              "      <th>2016-01-26</th>\n",
              "      <td>16.59</td>\n",
              "      <td>16.65</td>\n",
              "      <td>346.72</td>\n",
              "      <td>345.49</td>\n",
              "      <td>345.28</td>\n",
              "    </tr>\n",
              "    <tr>\n",
              "      <th>2016-01-27</th>\n",
              "      <td>16.32</td>\n",
              "      <td>16.38</td>\n",
              "      <td>352.52</td>\n",
              "      <td>351.27</td>\n",
              "      <td>351.06</td>\n",
              "    </tr>\n",
              "  </tbody>\n",
              "</table>\n",
              "</div>"
            ],
            "text/plain": [
              "            Taxa Compra Manha  Taxa Venda Manha  ...  PU Venda Manha  PU Base Manha\n",
              "Data Base                                        ...                               \n",
              "2016-01-26              16.59             16.65  ...          345.49         345.28\n",
              "2016-01-27              16.32             16.38  ...          351.27         351.06\n",
              "\n",
              "[2 rows x 5 columns]"
            ]
          },
          "metadata": {},
          "execution_count": 14
        }
      ]
    },
    {
      "cell_type": "code",
      "metadata": {
        "id": "Is-CofyuGDHM",
        "colab": {
          "base_uri": "https://localhost:8080/"
        },
        "outputId": "99747389-8695-44cd-c775-574a55c34be7"
      },
      "source": [
        "pre2023.columns"
      ],
      "execution_count": 15,
      "outputs": [
        {
          "output_type": "execute_result",
          "data": {
            "text/plain": [
              "Index(['Taxa Compra Manha', 'Taxa Venda Manha', 'PU Compra Manha',\n",
              "       'PU Venda Manha', 'PU Base Manha'],\n",
              "      dtype='object')"
            ]
          },
          "metadata": {},
          "execution_count": 15
        }
      ]
    },
    {
      "cell_type": "code",
      "metadata": {
        "id": "bM6XpPDZDvIA",
        "colab": {
          "base_uri": "https://localhost:8080/"
        },
        "outputId": "5bc7d0ba-6968-4719-f6a2-da4e375adbfd"
      },
      "source": [
        "pre2023.index"
      ],
      "execution_count": 16,
      "outputs": [
        {
          "output_type": "execute_result",
          "data": {
            "text/plain": [
              "DatetimeIndex(['2016-01-26', '2016-01-27', '2016-01-28', '2016-01-29',\n",
              "               '2016-02-01', '2016-02-02', '2016-02-03', '2016-02-04',\n",
              "               '2016-02-05', '2016-02-10',\n",
              "               ...\n",
              "               '2021-09-16', '2021-09-17', '2021-09-20', '2021-09-21',\n",
              "               '2021-09-22', '2021-09-23', '2021-09-24', '2021-09-27',\n",
              "               '2021-09-28', '2021-09-29'],\n",
              "              dtype='datetime64[ns]', name='Data Base', length=1412, freq=None)"
            ]
          },
          "metadata": {},
          "execution_count": 16
        }
      ]
    },
    {
      "cell_type": "code",
      "metadata": {
        "id": "XAcHoPqyHjwH",
        "colab": {
          "base_uri": "https://localhost:8080/"
        },
        "outputId": "2678c174-de25-46e2-e1fa-daaa1e59c711"
      },
      "source": [
        "pre2023.shape\n"
      ],
      "execution_count": 17,
      "outputs": [
        {
          "output_type": "execute_result",
          "data": {
            "text/plain": [
              "(1412, 5)"
            ]
          },
          "metadata": {},
          "execution_count": 17
        }
      ]
    },
    {
      "cell_type": "code",
      "metadata": {
        "id": "Yj-EhahbIHon",
        "colab": {
          "base_uri": "https://localhost:8080/"
        },
        "outputId": "d35db341-48c3-4cb3-a792-4f7b0717d528"
      },
      "source": [
        "pre2023.sum()\n"
      ],
      "execution_count": 18,
      "outputs": [
        {
          "output_type": "execute_result",
          "data": {
            "text/plain": [
              "Taxa Compra Manha     12191.15\n",
              "Taxa Venda Manha      12347.69\n",
              "PU Compra Manha      999968.96\n",
              "PU Venda Manha       996220.99\n",
              "PU Base Manha        995910.36\n",
              "dtype: float64"
            ]
          },
          "metadata": {},
          "execution_count": 18
        }
      ]
    },
    {
      "cell_type": "code",
      "metadata": {
        "id": "55krhPPoIYmL",
        "colab": {
          "base_uri": "https://localhost:8080/"
        },
        "outputId": "8bfb5b08-a719-42c8-cb92-c490dd13b46b"
      },
      "source": [
        "pre2023.min()\n"
      ],
      "execution_count": 20,
      "outputs": [
        {
          "output_type": "execute_result",
          "data": {
            "text/plain": [
              "Taxa Compra Manha      3.73\n",
              "Taxa Venda Manha       3.85\n",
              "PU Compra Manha      346.72\n",
              "PU Venda Manha       345.49\n",
              "PU Base Manha        345.28\n",
              "dtype: float64"
            ]
          },
          "metadata": {},
          "execution_count": 20
        }
      ]
    },
    {
      "cell_type": "code",
      "metadata": {
        "id": "p6CXRwDYIaYT",
        "colab": {
          "base_uri": "https://localhost:8080/"
        },
        "outputId": "a8fa4f87-8df7-45b0-bcd7-8c3b4a18f43e"
      },
      "source": [
        "pre2023.max()\n"
      ],
      "execution_count": 21,
      "outputs": [
        {
          "output_type": "execute_result",
          "data": {
            "text/plain": [
              "Taxa Compra Manha     16.59\n",
              "Taxa Venda Manha      16.65\n",
              "PU Compra Manha      919.68\n",
              "PU Venda Manha       917.58\n",
              "PU Base Manha        917.43\n",
              "dtype: float64"
            ]
          },
          "metadata": {},
          "execution_count": 21
        }
      ]
    },
    {
      "cell_type": "code",
      "metadata": {
        "id": "1W_G2V-QIgQV",
        "colab": {
          "base_uri": "https://localhost:8080/",
          "height": 300
        },
        "outputId": "caa41ece-db3f-41fa-fbb2-77398c3e5064"
      },
      "source": [
        "pre2023.describe()\n"
      ],
      "execution_count": 22,
      "outputs": [
        {
          "output_type": "execute_result",
          "data": {
            "text/html": [
              "<div>\n",
              "<style scoped>\n",
              "    .dataframe tbody tr th:only-of-type {\n",
              "        vertical-align: middle;\n",
              "    }\n",
              "\n",
              "    .dataframe tbody tr th {\n",
              "        vertical-align: top;\n",
              "    }\n",
              "\n",
              "    .dataframe thead th {\n",
              "        text-align: right;\n",
              "    }\n",
              "</style>\n",
              "<table border=\"1\" class=\"dataframe\">\n",
              "  <thead>\n",
              "    <tr style=\"text-align: right;\">\n",
              "      <th></th>\n",
              "      <th>Taxa Compra Manha</th>\n",
              "      <th>Taxa Venda Manha</th>\n",
              "      <th>PU Compra Manha</th>\n",
              "      <th>PU Venda Manha</th>\n",
              "      <th>PU Base Manha</th>\n",
              "    </tr>\n",
              "  </thead>\n",
              "  <tbody>\n",
              "    <tr>\n",
              "      <th>count</th>\n",
              "      <td>1412.000000</td>\n",
              "      <td>1412.000000</td>\n",
              "      <td>1412.000000</td>\n",
              "      <td>1412.000000</td>\n",
              "      <td>1412.000000</td>\n",
              "    </tr>\n",
              "    <tr>\n",
              "      <th>mean</th>\n",
              "      <td>8.633959</td>\n",
              "      <td>8.744823</td>\n",
              "      <td>708.193314</td>\n",
              "      <td>705.538945</td>\n",
              "      <td>705.318952</td>\n",
              "    </tr>\n",
              "    <tr>\n",
              "      <th>std</th>\n",
              "      <td>2.831774</td>\n",
              "      <td>2.818018</td>\n",
              "      <td>161.064881</td>\n",
              "      <td>161.104866</td>\n",
              "      <td>161.115397</td>\n",
              "    </tr>\n",
              "    <tr>\n",
              "      <th>min</th>\n",
              "      <td>3.730000</td>\n",
              "      <td>3.850000</td>\n",
              "      <td>346.720000</td>\n",
              "      <td>345.490000</td>\n",
              "      <td>345.280000</td>\n",
              "    </tr>\n",
              "    <tr>\n",
              "      <th>25%</th>\n",
              "      <td>6.142500</td>\n",
              "      <td>6.262500</td>\n",
              "      <td>580.382500</td>\n",
              "      <td>576.922500</td>\n",
              "      <td>576.692500</td>\n",
              "    </tr>\n",
              "    <tr>\n",
              "      <th>50%</th>\n",
              "      <td>9.025000</td>\n",
              "      <td>9.145000</td>\n",
              "      <td>700.220000</td>\n",
              "      <td>697.080000</td>\n",
              "      <td>696.835000</td>\n",
              "    </tr>\n",
              "    <tr>\n",
              "      <th>75%</th>\n",
              "      <td>10.540000</td>\n",
              "      <td>10.660000</td>\n",
              "      <td>883.395000</td>\n",
              "      <td>880.675000</td>\n",
              "      <td>880.507500</td>\n",
              "    </tr>\n",
              "    <tr>\n",
              "      <th>max</th>\n",
              "      <td>16.590000</td>\n",
              "      <td>16.650000</td>\n",
              "      <td>919.680000</td>\n",
              "      <td>917.580000</td>\n",
              "      <td>917.430000</td>\n",
              "    </tr>\n",
              "  </tbody>\n",
              "</table>\n",
              "</div>"
            ],
            "text/plain": [
              "       Taxa Compra Manha  Taxa Venda Manha  ...  PU Venda Manha  PU Base Manha\n",
              "count        1412.000000       1412.000000  ...     1412.000000    1412.000000\n",
              "mean            8.633959          8.744823  ...      705.538945     705.318952\n",
              "std             2.831774          2.818018  ...      161.104866     161.115397\n",
              "min             3.730000          3.850000  ...      345.490000     345.280000\n",
              "25%             6.142500          6.262500  ...      576.922500     576.692500\n",
              "50%             9.025000          9.145000  ...      697.080000     696.835000\n",
              "75%            10.540000         10.660000  ...      880.675000     880.507500\n",
              "max            16.590000         16.650000  ...      917.580000     917.430000\n",
              "\n",
              "[8 rows x 5 columns]"
            ]
          },
          "metadata": {},
          "execution_count": 22
        }
      ]
    },
    {
      "cell_type": "code",
      "metadata": {
        "id": "OaO7SVMaIiK7",
        "colab": {
          "base_uri": "https://localhost:8080/"
        },
        "outputId": "165e20da-d789-4df1-b5ca-92923b5d44d8"
      },
      "source": [
        "pre2023.mean()\n"
      ],
      "execution_count": 23,
      "outputs": [
        {
          "output_type": "execute_result",
          "data": {
            "text/plain": [
              "Taxa Compra Manha      8.633959\n",
              "Taxa Venda Manha       8.744823\n",
              "PU Compra Manha      708.193314\n",
              "PU Venda Manha       705.538945\n",
              "PU Base Manha        705.318952\n",
              "dtype: float64"
            ]
          },
          "metadata": {},
          "execution_count": 23
        }
      ]
    },
    {
      "cell_type": "code",
      "metadata": {
        "id": "-uNg0WcMIjlj",
        "colab": {
          "base_uri": "https://localhost:8080/"
        },
        "outputId": "f405dde4-69c0-44c8-df52-02d915f60c1a"
      },
      "source": [
        "pre2023.median()"
      ],
      "execution_count": 24,
      "outputs": [
        {
          "output_type": "execute_result",
          "data": {
            "text/plain": [
              "Taxa Compra Manha      9.025\n",
              "Taxa Venda Manha       9.145\n",
              "PU Compra Manha      700.220\n",
              "PU Venda Manha       697.080\n",
              "PU Base Manha        696.835\n",
              "dtype: float64"
            ]
          },
          "metadata": {},
          "execution_count": 24
        }
      ]
    },
    {
      "cell_type": "code",
      "metadata": {
        "id": "4JO_KHEuHumZ",
        "colab": {
          "base_uri": "https://localhost:8080/"
        },
        "outputId": "74766eda-0f5a-4225-9aea-722c8535387f"
      },
      "source": [
        "pre2023.count()"
      ],
      "execution_count": 25,
      "outputs": [
        {
          "output_type": "execute_result",
          "data": {
            "text/plain": [
              "Taxa Compra Manha    1412\n",
              "Taxa Venda Manha     1412\n",
              "PU Compra Manha      1412\n",
              "PU Venda Manha       1412\n",
              "PU Base Manha        1412\n",
              "dtype: int64"
            ]
          },
          "metadata": {},
          "execution_count": 25
        }
      ]
    },
    {
      "cell_type": "code",
      "metadata": {
        "id": "Kse6GgpRwPuQ",
        "colab": {
          "base_uri": "https://localhost:8080/",
          "height": 539
        },
        "outputId": "c2f920b7-69ac-4504-87c7-4293dbadfa8e"
      },
      "source": [
        "pre2023['PU Compra Manha'].plot();"
      ],
      "execution_count": 26,
      "outputs": [
        {
          "output_type": "display_data",
          "data": {
            "image/png": "[encoded data removed]",
            "text/plain": [
              "<Figure size 1440x720 with 1 Axes>"
            ]
          },
          "metadata": {}
        }
      ]
    },
    {
      "cell_type": "code",
      "metadata": {
        "id": "nyPAMz-hwWf5",
        "colab": {
          "base_uri": "https://localhost:8080/",
          "height": 541
        },
        "outputId": "3a9b1b79-09e0-4779-df5f-31f55cf64d5a"
      },
      "source": [
        "pre2023['Taxa Compra Manha'].plot();"
      ],
      "execution_count": 27,
      "outputs": [
        {
          "output_type": "display_data",
          "data": {
            "image/png": "[encoded data removed]",
            "text/plain": [
              "<Figure size 1440x720 with 1 Axes>"
            ]
          },
          "metadata": {}
        }
      ]
    },
    {
      "cell_type": "code",
      "metadata": {
        "id": "81cpigwZw_-I",
        "colab": {
          "base_uri": "https://localhost:8080/",
          "height": 541
        },
        "outputId": "aff9e614-e836-441e-b1e4-8767c4472af7"
      },
      "source": [
        "(pre2023['Taxa Compra Manha'] / pre2023['Taxa Compra Manha'].iloc[0]).plot();\n",
        "(pre2023['PU Compra Manha'] / pre2023['PU Compra Manha'].iloc[0]).plot();"
      ],
      "execution_count": 28,
      "outputs": [
        {
          "output_type": "display_data",
          "data": {
            "image/png": "[encoded data removed]",
            "text/plain": [
              "<Figure size 1440x720 with 1 Axes>"
            ]
          },
          "metadata": {}
        }
      ]
    },
    {
      "cell_type": "markdown",
      "metadata": {
        "id": "kIjjAsVrivjp"
      },
      "source": [
        "**Pronto!**\n",
        "\n",
        "Todas as informações foram buscadas no site do Tesouro Direto e já podemos utilizá-las para tomada de decisão sobre os nossos investimentos em Renda Fixa."
      ]
    }
  ]
}